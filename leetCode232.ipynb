{
 "cells": [
  {
   "cell_type": "code",
   "execution_count": null,
   "id": "674211cb",
   "metadata": {},
   "outputs": [],
   "source": [
    "# LeetCode 232. Implement Queue using Stacks\n",
    "\n",
    "## 코드\n",
    "\n",
    "class MyQueue:\n",
    "\n",
    "    def __init__(self):\n",
    "        self.in_stack = []\n",
    "        self.out_stack = []\n",
    "\n",
    "    def push(self, x: int) -> None:\n",
    "        self.in_stack.append(x)\n",
    "\n",
    "    def pop(self) -> int:\n",
    "        self.move()\n",
    "        return self.out_stack.pop()\n",
    "\n",
    "    def peek(self) -> int:\n",
    "        self.move()\n",
    "        return self.out_stack[-1]\n",
    "\n",
    "    def empty(self) -> bool:\n",
    "        return not self.in_stack and not self.out_stack\n",
    "\n",
    "    def move(self):\n",
    "        if not self.out_stack:\n",
    "            while self.in_stack:\n",
    "                self.out_stack.append(self.in_stack.pop())\n"
   ]
  }
 ],
 "metadata": {
  "language_info": {
   "name": "python"
  }
 },
 "nbformat": 4,
 "nbformat_minor": 5
}
