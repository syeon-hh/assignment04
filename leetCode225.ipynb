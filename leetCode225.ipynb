{
 "cells": [
  {
   "cell_type": "code",
   "execution_count": null,
   "id": "c57e6095",
   "metadata": {},
   "outputs": [],
   "source": [
    "# LeetCode 225. Implement Stack using Queues\n",
    "\n",
    "## 코드\n",
    "\n",
    "from collections import deque\n",
    "\n",
    "class MyStack:\n",
    "\n",
    "    def __init__(self):\n",
    "        self.q1 = deque()\n",
    "        self.q2 = deque()\n",
    "\n",
    "    def push(self, x: int) -> None:\n",
    "        self.q2.append(x)  # 새 원소를 q2에 넣고\n",
    "        while self.q1:\n",
    "            self.q2.append(self.q1.popleft())  # q1의 모든 원소를 q2 뒤로 옮김\n",
    "        self.q1, self.q2 = self.q2, self.q1  # q1이 메인 큐가 되도록 swap\n",
    "\n",
    "    def pop(self) -> int:\n",
    "        return self.q1.popleft()\n",
    "\n",
    "    def top(self) -> int:\n",
    "        return self.q1[0]\n",
    "\n",
    "    def empty(self) -> bool:\n",
    "        return not self.q1\n"
   ]
  }
 ],
 "metadata": {
  "language_info": {
   "name": "python"
  }
 },
 "nbformat": 4,
 "nbformat_minor": 5
}
